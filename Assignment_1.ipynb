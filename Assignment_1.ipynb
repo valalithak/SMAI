{
 "cells": [
  {
   "cell_type": "markdown",
   "metadata": {
    "editable": false
   },
   "source": [
    "# Assignment 1\n",
    "This jupyter notebook is meant to be used in conjunction with the full questions in the assignment pdf.\n",
    "\n",
    "## Instructions\n",
    "- Write your code and analyses in the indicated cells.\n",
    "- Ensure that this notebook runs without errors when the cells are run in sequence.\n",
    "- Do not attempt to change the contents of the other cells.\n",
    "\n",
    "## Submission\n",
    "- Ensure that this notebook runs without errors when the cells are run in sequence.\n",
    "- Rename the notebook to `<roll_number>.ipynb` and submit ONLY the notebook file on moodle."
   ]
  },
  {
   "cell_type": "markdown",
   "metadata": {
    "editable": false
   },
   "source": [
    "### Environment setup\n",
    "\n",
    "The following code reads the train and test data (provided along with this template) and outputs the data and labels as numpy arrays. Use these variables in your code.\n",
    "\n",
    "---\n",
    "#### Note on conventions\n",
    "In mathematical notation, the convention is tha data matrices are column-indexed, which means that a input data $x$ has shape $[d, n]$, where $d$ is the number of dimensions and $n$ is the number of data points, respectively.\n",
    "\n",
    "Programming languages have a slightly different convention. Data matrices are of shape $[n, d]$. This has the benefit of being able to access the ith data point as a simple `data[i]`.\n",
    "\n",
    "What this means is that you need to be careful about your handling of matrix dimensions. For example, while the covariance matrix (of shape $[d,d]$) for input data $x$ is calculated as $(x-u)(x-u)^T$, while programming you would do $(x-u)^T(x-u)$ to get the correct output shapes."
   ]
  },
  {
   "cell_type": "code",
   "execution_count": 2,
   "metadata": {
    "editable": false,
    "scrolled": true
   },
   "outputs": [
    {
     "name": "stdout",
     "output_type": "stream",
     "text": [
      "(6000, 784) (1000, 784)\n",
      "(6000,) (1000,)\n"
     ]
    }
   ],
   "source": [
    "from __future__ import print_function\n",
    "\n",
    "import numpy as np\n",
    "import matplotlib.pyplot as plt\n",
    "\n",
    "def read_data(filename):\n",
    "    with open(filename, 'r') as f:\n",
    "        lines = f.readlines()\n",
    "    \n",
    "    num_points = len(lines)\n",
    "    dim_points = 28 * 28\n",
    "    data = np.empty((num_points, dim_points))\n",
    "    labels = np.empty(num_points)\n",
    "    \n",
    "    for ind, line in enumerate(lines):\n",
    "        num = line.split(',')\n",
    "        labels[ind] = int(num[0])\n",
    "        data[ind] = [ int(x) for x in num[1:] ]\n",
    "        \n",
    "    return (data, labels)\n",
    "\n",
    "train_data, train_labels = read_data(\"sample_train.csv\")\n",
    "test_data, test_labels = read_data(\"sample_test.csv\")\n",
    "print(train_data.shape, test_data.shape)\n",
    "print(train_labels.shape, test_labels.shape)"
   ]
  },
  {
   "cell_type": "markdown",
   "metadata": {
    "editable": false
   },
   "source": [
    "# Questions\n",
    "---\n",
    "## 1.3.1 Representation\n",
    "The next code cells, when run, should plot the eigen value spectrum of the covariance matrices corresponding to the mentioned samples. Normalize the eigen value spectrum and only show the first 100 values."
   ]
  },
  {
   "cell_type": "code",
   "execution_count": 118,
   "metadata": {},
   "outputs": [
    {
     "data": {
      "image/png": "[encoded data removed]",
      "text/plain": [
       "<matplotlib.figure.Figure at 0x7f567efbb910>"
      ]
     },
     "metadata": {},
     "output_type": "display_data"
    }
   ],
   "source": [
    "# Samples corresponding to the last digit of your roll number (plot a)\n",
    "# Roll number = 20171025\n",
    "mat_5 = []\n",
    "for i in range(0,6000):\n",
    "    if(train_labels[i]==5.0):\n",
    "        mat_5.append(train_data[i])\n",
    "input_matrix = np.asarray(mat_5)\n",
    "values,vectors = np.linalg.eig(np.cov(input_matrix.T))\n",
    "\n",
    "\n",
    "idx = values.real\n",
    "idxmax, idxmin = idx.max(), idx.min()\n",
    "idx = (idx - idxmin)/(idxmax - idxmin)\n",
    "x = []\n",
    "y = []\n",
    "\n",
    "for i in range(0, 100):\n",
    "    x.append(i)\n",
    "    y.append(values[i]/max(values[0:100]))\n",
    "plt.bar(x,y) \n",
    "plt.show()\n",
    "\n"
   ]
  },
  {
   "cell_type": "code",
   "execution_count": 116,
   "metadata": {},
   "outputs": [
    {
     "data": {
      "image/png": "[encoded data removed]",
      "text/plain": [
       "<matplotlib.figure.Figure at 0x7f567eabdd50>"
      ]
     },
     "metadata": {},
     "output_type": "display_data"
    }
   ],
   "source": [
    "# Samples corresponding to the last digit of (your roll number + 1) % 10 (plot b)\n",
    "# Roll number = 20171025\n",
    "mat_5 = []\n",
    "for i in range(0,6000):\n",
    "    if(train_labels[i]==6.0):\n",
    "        mat_5.append(train_data[i])\n",
    "input_matrix = np.asarray(mat_5)\n",
    "values,vectors = np.linalg.eig(np.cov(input_matrix.T))\n",
    "\n",
    "\n",
    "idx = values.real\n",
    "idxmax, idxmin = idx.max(), idx.min()\n",
    "idx = (idx - idxmin)/(idxmax - idxmin)\n",
    "x = []\n",
    "y = []\n",
    "\n",
    "for i in range(0, 100):\n",
    "    x.append(i)\n",
    "    y.append(values[i]/max(values[0:100]))\n",
    "plt.bar(x,y) \n",
    "plt.show()\n",
    "\n"
   ]
  },
  {
   "cell_type": "code",
   "execution_count": 117,
   "metadata": {
    "scrolled": true
   },
   "outputs": [
    {
     "data": {
      "image/png": "[encoded data removed]",
      "text/plain": [
       "<matplotlib.figure.Figure at 0x7f567ea88a10>"
      ]
     },
     "metadata": {},
     "output_type": "display_data"
    }
   ],
   "source": [
    "# All training data (plot c)\n",
    "import matplotlib.pyplot as plt\n",
    "import numpy as np\n",
    "\n",
    "input_matrix = np.asarray(train_data)\n",
    "values,vectors = np.linalg.eig(np.cov(input_matrix.T))\n",
    "\n",
    "\n",
    "idx = values.real\n",
    "idxmax, idxmin = idx.max(), idx.min()\n",
    "idx = (idx - idxmin)/(idxmax - idxmin)\n",
    "x = []\n",
    "y = []\n",
    "\n",
    "for i in range(0, 100):\n",
    "    x.append(i)\n",
    "    y.append(values[i]/max(values[0:100]))\n",
    "plt.bar(x,y) \n",
    "plt.show()"
   ]
  },
  {
   "cell_type": "code",
   "execution_count": 128,
   "metadata": {},
   "outputs": [
    {
     "data": {
      "image/png": "[encoded data removed]",
      "text/plain": [
       "<matplotlib.figure.Figure at 0x7f5672aff310>"
      ]
     },
     "metadata": {},
     "output_type": "display_data"
    }
   ],
   "source": [
    "# Randomly selected 50% of the training data (plot d)\n",
    "indices = np.random.choice(train_data.shape[0], 3000, replace = False)\n",
    "mat = []\n",
    "for i in indices:\n",
    "    mat.append(train_data[i])\n",
    "\n",
    "input_matrix = np.asarray(mat)\n",
    "values,vectors = np.linalg.eig(np.cov(input_matrix.T))\n",
    "\n",
    "\n",
    "idx = values.real\n",
    "idxmax, idxmin = idx.max(), idx.min()\n",
    "idx = (idx - idxmin)/(idxmax - idxmin)\n",
    "x = []\n",
    "y = []\n",
    "\n",
    "for i in range(0, 100):\n",
    "    x.append(i)\n",
    "    y.append(values[i]/max(values[0:100]))\n",
    "plt.bar(x,y) \n",
    "plt.show()"
   ]
  },
  {
   "cell_type": "markdown",
   "metadata": {
    "editable": false
   },
   "source": [
    "### 1.3.1 Question 1\n",
    "- Are plots a and b different? Why?\n",
    "- Are plots b and c different? Why?\n",
    "- What are the approximate ranks of each plot?"
   ]
  },
  {
   "cell_type": "markdown",
   "metadata": {},
   "source": [
    "---\n",
    "Your answers here (double click to edit)\n",
    "1. Plots a and b are almost the same, but the difference is that b is a little less steeper than a (immediate values after 1 are around 0.7 and 0.6 in b, whereas they directly start from 0.5 in a). But apart from this very small difference, they are practically the same.\n",
    "\n",
    "2. Same as the above answer, but here, the first few largest eigen values of c are a little higher than those of b. Rest of the spectrum is very similar in both the cases.\n",
    "\n",
    "3. We observe trivially that each plot has a minimum rank of 100, because we don't see complete zero values anywhere in any of the plots, but exact rank simply be calculated by counting all the number of non zero eigen values.\n",
    "\n",
    "---"
   ]
  },
  {
   "cell_type": "markdown",
   "metadata": {
    "editable": false
   },
   "source": [
    "### 1.3.1 Question 2\n",
    "- How many possible images could there be?\n",
    "- What percentage is accessible to us as MNIST data?\n",
    "- If we had acces to all the data, how would the eigen value spectrum of the covariance matrix look?"
   ]
  },
  {
   "cell_type": "markdown",
   "metadata": {},
   "source": [
    "---\n",
    "Your answers here (double click to edit)\n",
    "1. We can have 2^784 images in total which is around 1.017458e+236.\n",
    "2. Almost 0% is available to us (close to 10^(-200), which is negligible.\n",
    "3. If we had access to all the data, it will have all equal eigen values and plot will be a constant straight line. In that case, covariance matrix will be a diagonal matrix.\n",
    "\n",
    "---"
   ]
  },
  {
   "cell_type": "markdown",
   "metadata": {
    "editable": false
   },
   "source": [
    "## 1.3.2 Linear Transformation\n",
    "---\n",
    "### 1.3.2 Question 1\n",
    "How does the eigen spectrum change if the original data was multiplied by an orthonormal matrix? Answer analytically and then also validate experimentally."
   ]
  },
  {
   "cell_type": "markdown",
   "metadata": {},
   "source": [
    "---\n",
    "Analytical answer here (double click to edit)\n",
    "Multiplication with an orthonormal matrix is essentially just a linear transformation. This results in all the eigen vectors being rotated by some value in space, but nothing happens to the eigen values. Hence, we expect the plots to look the same.\n",
    "This is supported by the observation that both the plots are same.\n",
    "---"
   ]
  },
  {
   "cell_type": "code",
   "execution_count": 127,
   "metadata": {},
   "outputs": [
    {
     "data": {
      "image/png": "[encoded data removed]",
      "text/plain": [
       "<matplotlib.figure.Figure at 0x7f5672c7c410>"
      ]
     },
     "metadata": {},
     "output_type": "display_data"
    }
   ],
   "source": [
    "# Experimental validation here.\n",
    "# Multiply your data (train_data) with an orthonormal matrix and plot the\n",
    "# eigen value specturm of the new covariance matrix.\n",
    "from scipy.stats import ortho_group\n",
    "m = ortho_group.rvs(784)\n",
    "prod = np.dot(train_data,m)\n",
    "values, vectors = np.linalg.eig(np.cov(prod.T))\n",
    "\n",
    "idx = values.real\n",
    "idxmax, idxmin = idx.max(), idx.min()\n",
    "idx = (idx - idxmin)/(idxmax - idxmin)\n",
    "x = []\n",
    "y = []\n",
    "\n",
    "for i in range(0, 100):\n",
    "    x.append(i)\n",
    "    y.append(values[i]/max(values[0:100]))\n",
    "plt.bar(x,y) \n",
    "plt.show()"
   ]
  },
  {
   "cell_type": "markdown",
   "metadata": {
    "editable": false
   },
   "source": [
    "### 1.3.2 Question 2\n",
    "If  samples  were  multiplied  by  784 × 784  matrix  of rank 1 or 2, (rank deficient matrices), how will the eigen spectrum look like?"
   ]
  },
  {
   "cell_type": "markdown",
   "metadata": {},
   "source": [
    "---\n",
    "Your answer here (double click to edit)\n",
    "In this case, since the rank of the multiplying rank deficient matrix is atmost 2, we can have a maxiumum of 2 non zero eigen values. Eigen spectrum will be corresponding to that, where atmost 2 values in the spectrum are non zero and rest all are zeroes.\n",
    "\n",
    "---"
   ]
  },
  {
   "cell_type": "markdown",
   "metadata": {
    "editable": false
   },
   "source": [
    "### 1.3.2 Question 3\n",
    "Project the original data into the first and second eigenvectors and plot in 2D"
   ]
  },
  {
   "cell_type": "code",
   "execution_count": 105,
   "metadata": {},
   "outputs": [
    {
     "data": {
      "image/png": "[encoded data removed]",
      "text/plain": [
       "<matplotlib.figure.Figure at 0x7f567f26fe10>"
      ]
     },
     "metadata": {},
     "output_type": "display_data"
    }
   ],
   "source": [
    "import numpy as np\n",
    "\n",
    "values,vectors = np.linalg.eig(np.cov(train_data.T))\n",
    "\n",
    "x = train_data.dot(-1*((vectors[:,0]).T).real)\n",
    "y = train_data.dot(((vectors[:,1]).T).real)\n",
    "\n",
    "\n",
    "plt.scatter(x,y,s=2)\n",
    "plt.show()\n"
   ]
  },
  {
   "cell_type": "markdown",
   "metadata": {
    "editable": false
   },
   "source": [
    "## 1.3.3 Probabilistic View\n",
    "---\n",
    "In this section you will classify the test set by fitting multivariate gaussians on the train set, with different choices for decision boundaries. On running, your code should print the accuracy on your test set."
   ]
  },
  {
   "cell_type": "code",
   "execution_count": 136,
   "metadata": {},
   "outputs": [
    {
     "name": "stdout",
     "output_type": "stream",
     "text": [
      "Accuracy using MLE is\n",
      "84%\n"
     ]
    }
   ],
   "source": [
    "# Print accuracy on the test set using MLE\n",
    "from collections import defaultdict\n",
    "def classify(train_data, train_labels):\n",
    "    classes = defaultdict(list)\n",
    "    for i in range(0, len(train_data)):\n",
    "        x = int(train_labels[i])\n",
    "        classes[x].append(train_data[i])\n",
    "    return classes\n",
    "\n",
    "def find_max_class(classes, test_sample):\n",
    "    mean = defaultdict(list)\n",
    "    for i in range(0, 10):\n",
    "        x = np.asarray(classes[i])\n",
    "        m = np.mean(x, axis = 0)\n",
    "        mean[i] = m\n",
    "    \n",
    "    sigma = defaultdict(list)\n",
    "    for i in range(0, 10):\n",
    "        x = np.cov(np.asarray(classes[i]).T)\n",
    "        sigma[i] = x\n",
    "    \n",
    "    max_val = -1000000\n",
    "    max_index = -1\n",
    "\n",
    "    for i in range(0, 10):\n",
    "        _ , value1 = np.linalg.slogdet(np.cov(classes[i]))\n",
    "        sigma_inv = np.linalg.pinv(sigma[i])\n",
    "        value2 = np.dot((test_sample - mean[i]).T,sigma_inv)\n",
    "        value2 = np.dot(value2, (test_sample-mean[i]))\n",
    "        ans = -1*(value1 + value2)\n",
    "        if(max_val < ans):\n",
    "            max_val = ans\n",
    "            max_index = i\n",
    "    return max_index\n",
    "\n",
    "\n",
    "classes = classify(train_data, train_labels)\n",
    "i = 0\n",
    "count=0\n",
    "for test_sample in test_data:\n",
    "    x=find_max_class(classes, test_sample)\n",
    "#     print(x, int(test_labels[i]))\n",
    "    y = int(test_labels[i])\n",
    "    if x == y:\n",
    "        count+=1\n",
    "    i+=1\n",
    "\n",
    "\n",
    "print(\"Accuracy using MLE is\")\n",
    "y = str(count)\n",
    "print(y + \"%\")"
   ]
  },
  {
   "cell_type": "code",
   "execution_count": 134,
   "metadata": {},
   "outputs": [
    {
     "name": "stdout",
     "output_type": "stream",
     "text": [
      "Accuracy using Bayesian pairwise majority voting method\n",
      "81%\n"
     ]
    }
   ],
   "source": [
    "# Print accuracy using Bayesian pairwise majority voting method\n",
    "def classify(train_data, train_labels):\n",
    "    classes = defaultdict(list)\n",
    "    for i in range(0, len(train_data)):\n",
    "        x = int(train_labels[i])\n",
    "        classes[x].append(train_data[i])\n",
    "    return classes\n",
    "\n",
    "def find_mean(classes):\n",
    "    mean = defaultdict(list)\n",
    "    for i in range(0, 10):\n",
    "        x = np.asarray(classes[i])\n",
    "        m = np.mean(x, axis = 0)\n",
    "        mean[i] = m\n",
    "    return mean\n",
    "\n",
    "def find_cov(classes):\n",
    "    sigma = defaultdict(list)\n",
    "    for i in range(0, 10):\n",
    "        x = np.cov(np.asarray(classes[i]).T)\n",
    "        sigma[i] = x\n",
    "    \n",
    "def bayesian(classes, test_sample, mean, sigma, i, j, votes):\n",
    "    \n",
    "    _ , value1 = np.linalg.slogdet(np.cov(classes[i]))\n",
    "    sigma_inv = np.linalg.pinv(sigma[i])\n",
    "    value2 = np.dot((test_sample - mean[i]).T,sigma_inv)\n",
    "    value2 = np.dot(value2, (test_sample-mean[i]))\n",
    "    ans1 = -1*(value1 + value2)\n",
    "    \n",
    "    _ , value1 = np.linalg.slogdet(np.cov(classes[j]))\n",
    "    sigma_inv = np.linalg.pinv(sigma[j])\n",
    "    value2 = np.dot((test_sample - mean[j]).T,sigma_inv)\n",
    "    value2 = np.dot(value2, (test_sample-mean[j]))\n",
    "    ans2 = -1*(value1 + value2)   \n",
    "    \n",
    "    if ans1 > ans2:\n",
    "        votes[i] += 1\n",
    "    elif ans2 > ans1:\n",
    "        votes[j] += 1\n",
    "    \n",
    "    return votes\n",
    "            \n",
    "\n",
    "classes = classify(train_data, train_labels)\n",
    "mean = [[] for i in range(10)]\n",
    "for k in range(0, 10):\n",
    "    m = np.mean(np.asarray(classes[k]), axis = 0)\n",
    "    mean[k] = m\n",
    "    \n",
    "sigma = [[] for i in range(10)]\n",
    "for k in range(0, 10):\n",
    "    x = np.cov(np.asarray(classes[k]).T)\n",
    "    sigma[k] = x\n",
    "\n",
    "ind = 0\n",
    "count = 0\n",
    "for test_sample in test_data:\n",
    "    votes = [0 for i in range(10)]\n",
    "    for i in range(9):\n",
    "        for j in range(i+1, 10):\n",
    "            votes = bayesian(classes, test_sample, mean, sigma, i, j, votes)\n",
    "         \n",
    "    max_value = 0\n",
    "    max_index = -1\n",
    "    for i in range(0, 10):\n",
    "        if(max_value < votes[i]):\n",
    "            max_value = votes[i]\n",
    "            max_index = i\n",
    "#     print(max_index, int(test_labels[ind]))\n",
    "    if(max_index == int(test_labels[ind])):\n",
    "        count = count + 1\n",
    "    ind = ind +1\n",
    "print(\"Accuracy using Bayesian pairwise majority voting method\")\n",
    "y = str(count)\n",
    "print(y + \"%\")"
   ]
  },
  {
   "cell_type": "code",
   "execution_count": 135,
   "metadata": {},
   "outputs": [
    {
     "name": "stdout",
     "output_type": "stream",
     "text": [
      "Accuracy using MAP is\n",
      "84%\n"
     ]
    }
   ],
   "source": [
    "# Print accuracy on the test set using MAP\n",
    "from collections import defaultdict\n",
    "def classify(train_data, train_labels):\n",
    "    classes = defaultdict(list)\n",
    "    for i in range(0, len(train_data)):\n",
    "        x = int(train_labels[i])\n",
    "        classes[x].append(train_data[i])\n",
    "    return classes\n",
    "\n",
    "def find_max_class(classes, test_sample):\n",
    "    mean = defaultdict(list)\n",
    "    for i in range(0, 10):\n",
    "        x = np.asarray(classes[i])\n",
    "        m = np.mean(x, axis = 0)\n",
    "        mean[i] = m\n",
    "    \n",
    "    sigma = defaultdict(list)\n",
    "    for i in range(0, 10):\n",
    "        x = np.cov(np.asarray(classes[i]).T)\n",
    "        sigma[i] = x\n",
    "    \n",
    "    max_val = -1000000\n",
    "    max_index = -1\n",
    "\n",
    "    for i in range(0, 10):\n",
    "        _ , value1 = np.linalg.slogdet(np.cov(classes[i]))\n",
    "        sigma_inv = np.linalg.pinv(sigma[i])\n",
    "        value2 = np.dot((test_sample - mean[i]).T,sigma_inv)\n",
    "        value2 = np.dot(value2, (test_sample-mean[i]))\n",
    "        ans = -1*(value1 + value2)\n",
    "        if(max_val < ans):\n",
    "            max_val = ans\n",
    "            max_index = i\n",
    "    return max_index\n",
    "\n",
    "classes = classify(train_data, train_labels)\n",
    "i = 0\n",
    "count=0\n",
    "for test_sample in test_data:\n",
    "    x=find_max_class(classes, test_sample)\n",
    "#     print(x, int(test_labels[i]))\n",
    "    y = int(test_labels[i])\n",
    "    if x == y:\n",
    "        count+=1\n",
    "    i+=1\n",
    "\n",
    "print(\"Accuracy using MAP is\")\n",
    "y = str(count)\n",
    "print(y + \"%\")"
   ]
  },
  {
   "cell_type": "code",
   "execution_count": null,
   "metadata": {},
   "outputs": [],
   "source": [
    "\n"
   ]
  },
  {
   "cell_type": "code",
   "execution_count": 68,
   "metadata": {},
   "outputs": [
    {
     "name": "stdout",
     "output_type": "stream",
     "text": [
      "Accuracy using Simple Perpendicular Bisector majority voting method\n",
      "77%\n"
     ]
    }
   ],
   "source": [
    "# Print accuracy using Simple Perpendicular Bisector majority voting method\n",
    "def euclidean_distance(img_a, img_b):\n",
    "    return sum((img_a - img_b) ** 2)\n",
    "\n",
    "def classify(train_data, train_labels):\n",
    "    classes = defaultdict(list)\n",
    "    for i in range(0, len(train_data)):\n",
    "        x = int(train_labels[i])\n",
    "        classes[x].append(train_data[i])\n",
    "    return classes\n",
    "\n",
    "def find_mean(classes):\n",
    "    mean = defaultdict(list)\n",
    "    for i in range(0, 10):\n",
    "        x = np.asarray(classes[i])\n",
    "        m = np.mean(x, axis = 0)\n",
    "        mean[i] = m\n",
    "    return mean\n",
    "\n",
    "def find_cov(classes):\n",
    "    sigma = defaultdict(list)\n",
    "    for i in range(0, 10):\n",
    "        x = np.cov(np.asarray(classes[i]).T)\n",
    "        sigma[i] = x\n",
    "    \n",
    "def perpendicular_bisector(test_sample, mean,i, j, votes):\n",
    "    \n",
    "    ans1 = euclidean_distance(mean[i], test_sample)\n",
    "    ans2 = euclidean_distance(mean[j], test_sample)\n",
    "    if ans1 < ans2:\n",
    "        votes[i] += 1\n",
    "    else:\n",
    "        votes[j] += 1\n",
    "    \n",
    "    return votes\n",
    "            \n",
    "\n",
    "classes = classify(train_data, train_labels)\n",
    "mean = [[] for i in range(10)]\n",
    "for k in range(0, 10):\n",
    "    m = np.mean(np.asarray(classes[k]), axis = 0)\n",
    "    mean[k] = m\n",
    "    \n",
    "sigma = [[] for i in range(10)]\n",
    "for k in range(0, 10):\n",
    "    x = np.cov(np.asarray(classes[k]).T)\n",
    "    sigma[k] = x\n",
    "\n",
    "ind = 0\n",
    "count = 0\n",
    "for test_sample in test_data:\n",
    "    votes = [0 for i in range(10)]\n",
    "    for i in range(9):\n",
    "        for j in range(i+1, 10):\n",
    "            votes = perpendicular_bisector(test_sample, mean, i, j, votes)\n",
    "    max_value = 0\n",
    "    max_index = -1\n",
    "    for i in range(0, 10):\n",
    "        if(max_value < votes[i]):\n",
    "            max_value = votes[i]\n",
    "            max_index = i\n",
    "\n",
    "    if(max_index == int(test_labels[ind])):\n",
    "        count = count + 1\n",
    "    ind = ind +1\n",
    "print(\"Accuracy using Simple Perpendicular Bisector majority voting method\")\n",
    "x= count/10 \n",
    "y = str(x)\n",
    "print(y+\"%\")"
   ]
  },
  {
   "cell_type": "markdown",
   "metadata": {
    "editable": false
   },
   "source": [
    "### 1.3.3 Question 4\n",
    "Compare performances and salient observations"
   ]
  },
  {
   "cell_type": "markdown",
   "metadata": {},
   "source": [
    "---\n",
    "Your analysis here (double click to edit)\n",
    "\n",
    "Following are the accuracies:\n",
    "MAP and MLE: 84%\n",
    "Bayesian: 81%\n",
    "Perpendicular bisector method: 77%\n",
    "\n",
    "When we compare the performances, we arrive at same accuracies for MAP and MLE\n",
    "Reason: P(W/theta) = P(theta/W)*P(W)/P(theta)\n",
    "Here, P(W) and P(theta) are constants\n",
    "So finding the maximum value boils down to maximising the same expression in both MAP and MLE.\n",
    "\n",
    "\n",
    "Minimum accuracy is being reported in Perpendicular bisector because we're just taking the distance between the test point and the means of both the distributions, which is not the best metric for classification when the distribution is Gaussian.\n",
    "\n",
    "Same reason applies to Bayesian voting method as well, but since we are considering mean and covariance as well, we expect higher value than simple perpendicular.\n",
    "\n",
    "---"
   ]
  },
  {
   "cell_type": "markdown",
   "metadata": {
    "editable": false
   },
   "source": [
    "## 1.3.4 Nearest Neighbour based Tasks and Design\n",
    "---\n",
    "### 1.3.4 Question 1 : NN Classification with various K\n",
    "Implement a KNN classifier and print accuracies on the test set with K=1,3,7"
   ]
  },
  {
   "cell_type": "code",
   "execution_count": 11,
   "metadata": {},
   "outputs": [
    {
     "name": "stdout",
     "output_type": "stream",
     "text": [
      "Accuracy in percentage for k=1 is\n",
      "90.7\n",
      "Accuracy in percentage for k=3 is\n",
      "92.2\n",
      "Accuracy in percentage for k=7 is\n",
      "91.7\n"
     ]
    }
   ],
   "source": [
    "# Your code here\n",
    "import numpy as np\n",
    "from collections import defaultdict\n",
    "\n",
    "def euclidean_distance(img_a, img_b):\n",
    "    return sum((img_a - img_b) ** 2)\n",
    "\n",
    "def find_majority(labels):\n",
    "    counter = defaultdict(int)\n",
    "    for label in labels:\n",
    "        counter[label] += 1\n",
    "        \n",
    "    majority_count = max(counter.values())\n",
    "    for key, value in counter.items():\n",
    "        if value == majority_count:\n",
    "            return key\n",
    "\n",
    "train_images = train_data\n",
    "test_images = test_data\n",
    "test_labels\n",
    "\n",
    "def predict(k, train_images, train_labels, test_image):\n",
    "    # storing (distance, label)\n",
    "    distances = [(euclidean_distance(test_image, image), label)\n",
    "                    for (image, label) in zip(train_images, train_labels)]\n",
    "    by_distances = sorted(distances, key=lambda (distance, _): distance)\n",
    "    # k closest labels\n",
    "    k_labels = [label for (_, label) in by_distances[:k]]\n",
    "    return find_majority(k_labels)\n",
    "\n",
    "\n",
    "i = 0\n",
    "total_correct = 0\n",
    "for test_image in test_images:\n",
    "    pred = predict(1, train_images, train_labels, test_image)\n",
    "    if pred == test_labels[i]:\n",
    "        total_correct += 1\n",
    "#     print('\\tpred:', pred, '\\torig:', test_labels[i])\n",
    "    i += 1\n",
    "print(\"Accuracy in percentage for k=1 is\")\n",
    "print(100*float(total_correct)/float(len(test_images)))\n",
    "\n",
    "i = 0\n",
    "total_correct = 0\n",
    "for test_image in test_images:\n",
    "    pred = predict(3, train_images, train_labels, test_image)\n",
    "    if pred == test_labels[i]:\n",
    "        total_correct += 1\n",
    "#     print('\\tpred:', pred, '\\torig:', test_labels[i])\n",
    "    i += 1\n",
    "print(\"Accuracy in percentage for k=3 is\")\n",
    "print(100*float(total_correct)/float(len(test_images)))\n",
    "\n",
    "i = 0\n",
    "total_correct = 0\n",
    "for test_image in test_images:\n",
    "    pred = predict(7, train_images, train_labels, test_image)\n",
    "    if pred == test_labels[i]:\n",
    "        total_correct += 1\n",
    "#     print('\\tpred:', pred, '\\torig:', test_labels[i])\n",
    "    i += 1\n",
    "print(\"Accuracy in percentage for k=7 is\")\n",
    "print(100*float(total_correct)/float(len(test_images)))"
   ]
  },
  {
   "cell_type": "markdown",
   "metadata": {
    "editable": false
   },
   "source": [
    "### 1.3.4 Question 1 continued\n",
    "- Why / why not are the accuracies the same?\n",
    "- How do we identify the best K? Suggest a computational procedure with a logical explanation."
   ]
  },
  {
   "cell_type": "markdown",
   "metadata": {},
   "source": [
    "---\n",
    "Your analysis here (double click to edit)\n",
    "\n",
    "The accuracies are not same because when you increase k from 1 to higher numners till some extent, you're not looking at just the nearest neighbout but essentially looking at the nearest neighbourhood consisting of k neighbours. This gives a more reliable prediction.\n",
    "\n",
    "IDENTIFYING K\n",
    "Usually, the K is chosen empirically. Different numbers of nearest neighbors are tried, and the parameter with the best performance (accuracy) is chosen to define the classifier. \n",
    "Th rule of thumb as described in several research studies is to have a maximum number of classifiers to be\n",
    "not greater than the square root of the training data set size, since more classifiers increases computation time. \n",
    "However, there is no universal rule to assign k any specific value - we ultimately have to arrive at a tradeoff between the stability of the results and computation time.\n",
    "\n",
    "---"
   ]
  },
  {
   "cell_type": "markdown",
   "metadata": {
    "editable": false
   },
   "source": [
    "### 1.3.4 Question 2 :  Reverse NN based outlier detection\n",
    "A sample can be thought of as an outlier is it is NOT in the nearest neighbour set of anybody else. Expand this idea into an algorithm."
   ]
  },
  {
   "cell_type": "code",
   "execution_count": 13,
   "metadata": {
    "editable": false
   },
   "outputs": [
    {
     "name": "stdout",
     "output_type": "stream",
     "text": [
      "(20, 784)\n"
     ]
    }
   ],
   "source": [
    "# This cell reads mixed data containing both MNIST digits and English characters.\n",
    "# The labels for this mixed data are random and are hence ignored.\n",
    "mixed_data, _ = read_data(\"outliers.csv\")\n",
    "print(mixed_data.shape)"
   ]
  },
  {
   "cell_type": "code",
   "execution_count": 12,
   "metadata": {},
   "outputs": [
    {
     "name": "stdout",
     "output_type": "stream",
     "text": [
      "1 Outlier\n",
      "2 Not Outlier\n",
      "3 Outlier\n",
      "4 Not Outlier\n",
      "5 Outlier\n",
      "6 Outlier\n",
      "7 Outlier\n",
      "8 Outlier\n",
      "9 Not Outlier\n",
      "10 Outlier\n",
      "11 Not Outlier\n",
      "12 Not Outlier\n",
      "13 Not Outlier\n",
      "14 Not Outlier\n",
      "15 Not Outlier\n",
      "16 Not Outlier\n",
      "17 Not Outlier\n",
      "18 Not Outlier\n",
      "19 Outlier\n",
      "20 Not Outlier\n"
     ]
    }
   ],
   "source": [
    "import numpy as np\n",
    "from collections import defaultdict\n",
    "\n",
    "def euclidean_distance(img_a, img_b):\n",
    "    return sum((img_a - img_b) ** 2)\n",
    "\n",
    "mixed_data, _ = read_data(\"outliers.csv\")\n",
    "test_images = mixed_data\n",
    "train_images = train_data\n",
    "# Your code here\n",
    "\n",
    "\n",
    "def euclidean_distance(img_a, img_b):\n",
    "    return sum((img_a - img_b) ** 2)\n",
    "\n",
    "def get_max_dist(k, train_images, train_labels, test_image):\n",
    "    # storing (distance, label)\n",
    "    distances = [(euclidean_distance(test_image, image), label)\n",
    "                    for (image, label) in zip(train_images, train_labels)]\n",
    "    by_distances = sorted(distances, key=lambda (distance, _): distance)\n",
    "    max_dist = 0\n",
    "    for i in range(0, k):\n",
    "        max_dist = max(by_distances[i][0], max_dist)\n",
    "    return max_dist\n",
    "\n",
    "def get_min_dist(k, train_images, train_labels, test_image):\n",
    "    # storing (distance, label)\n",
    "    distances = [(euclidean_distance(test_image, image), label)\n",
    "                    for (image, label) in zip(train_images, train_labels)]\n",
    "    by_distances = sorted(distances, key=lambda (distance, _): distance)\n",
    "    min_dist = 1000000000000\n",
    "    for i in range(0, k):\n",
    "        min_dist = min(by_distances[i][0], min_dist)\n",
    "    return min_dist\n",
    "\n",
    "i=0\n",
    "diff = 0\n",
    "neighbour= defaultdict(int)\n",
    "#marking neighbour distance for each training image\n",
    "for train_image in train_images:\n",
    "    max_k_dist = get_max_dist(3, train_images, train_labels, train_image)\n",
    "    neighbour[i] += max_k_dist\n",
    "    i = i+1\n",
    "\n",
    "index = 0\n",
    "for test_image in test_images:\n",
    "    dist = get_min_dist(3, train_images, train_labels, test_image)\n",
    "    flag = 0\n",
    "    index = index + 1\n",
    "    for i in (0, len(neighbour)):\n",
    "        if(dist<neighbour[i]):\n",
    "            flag =1\n",
    "            break\n",
    "        else:\n",
    "            continue\n",
    "    if flag == 0:\n",
    "        print(index, \"Outlier\")\n",
    "    else:\n",
    "        print(index, \"Not Outlier\")"
   ]
  },
  {
   "cell_type": "markdown",
   "metadata": {
    "editable": false
   },
   "source": [
    "### 1.3.4 Question 3 : NN for regression\n",
    "Assume that each classID in the train set corresponds to a neatness score as:\n",
    "$$ neatness = \\frac{classID}{10} $$\n",
    "\n",
    "---\n",
    "Assume we had to predict the neatness score for each test sample using NN based techiniques on the train set. Describe the algorithm."
   ]
  },
  {
   "cell_type": "markdown",
   "metadata": {},
   "source": [
    "---\n",
    "Your algorithm here (double click to edit)\n",
    "Initially, assign a neatness score to each training sample beased on its classID.\n",
    "For testing, take distances of the k nearest neighbours for the test sample.\n",
    "Arrive at a weighted mean by multiplying each distance from the training sample with the corresponding neatness score of that training sample, and dividing by total distance.\n",
    "This will be the predicted neatness score of the test sample.\n",
    "This is based on the idea that a point nearest would contribute more to the neatness score than other point which is relatively farther.\n",
    "Finally, to get the mean error, compare the predicted neatness score and the actual neatness score from the test labels.\n",
    "In this implementation, we arrived at a mean error of 0.038"
   ]
  },
  {
   "cell_type": "markdown",
   "metadata": {
    "editable": false
   },
   "source": [
    "### 1.3.4 Question 3 continued\n",
    "Validate your algorithm on the test set. This code should print mean absolute error on the test set, using the train set for NN based regression."
   ]
  },
  {
   "cell_type": "code",
   "execution_count": 13,
   "metadata": {},
   "outputs": [
    {
     "name": "stdout",
     "output_type": "stream",
     "text": [
      "Mean error is:\n",
      "0.0383122563862\n"
     ]
    }
   ],
   "source": [
    "# Your code here\n",
    "import numpy as np\n",
    "from collections import defaultdict\n",
    "\n",
    "def euclidean_distance(img_a, img_b):\n",
    "    return sum((img_a - img_b) ** 2)\n",
    "\n",
    "train_images = train_data\n",
    "test_images = test_data\n",
    "\n",
    "def predict_score(k, train_images, train_labels, test_image):\n",
    "    # storing (distance, label)\n",
    "    distances = [(euclidean_distance(test_image, image), label)\n",
    "                    for (image, label) in zip(train_images, train_labels)]\n",
    "    by_distances = sorted(distances, key=lambda (distance, _): distance)\n",
    "    score = 0\n",
    "    dist = 0\n",
    "    for i in range(0, k):\n",
    "        score += by_distances[i][0]*(float(by_distances[i][1])/10.0)\n",
    "        dist += by_distances[i][0]\n",
    "    neatness_score = float(score)/float(dist)\n",
    "    return neatness_score\n",
    "\n",
    "i=0\n",
    "diff = 0\n",
    "for test_image in test_images:\n",
    "    pred = predict_score(3, train_images, train_labels, test_image)\n",
    "#     print(pred, test_labels[i]/10.0)\n",
    "    diff += abs(pred - (test_labels[i]/10.0))\n",
    "    i += 1\n",
    "    \n",
    "print(\"Mean error is:\")\n",
    "print(float(diff)/float(i))\n"
   ]
  },
  {
   "cell_type": "markdown",
   "metadata": {
    "editable": false
   },
   "source": [
    "---\n",
    "# FOLLOW THE SUBMISSION INSTRUCTIONS\n",
    "---"
   ]
  }
 ],
 "metadata": {
  "kernelspec": {
   "display_name": "Python 2",
   "language": "python",
   "name": "python2"
  },
  "language_info": {
   "codemirror_mode": {
    "name": "ipython",
    "version": 2
   },
   "file_extension": ".py",
   "mimetype": "text/x-python",
   "name": "python",
   "nbconvert_exporter": "python",
   "pygments_lexer": "ipython2",
   "version": "2.7.12"
  }
 },
 "nbformat": 4,
 "nbformat_minor": 2
}
